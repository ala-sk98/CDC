{
  "cells": [
    {
      "cell_type": "code",
      "execution_count": null,
      "metadata": {
        "id": "FOSNtFvPA_Kf"
      },
      "outputs": [],
      "source": [
        "%matplotlib inline"
      ]
    },
    {
      "cell_type": "markdown",
      "metadata": {
        "id": "-Jd77sbOA_Kj"
      },
      "source": [
        "\n",
        "Finetuning Deep Learning Models for Colorectal Disease Classification\n",
        "=============================\n",
        "\n",
        "**Author:** `Ala Salehi <https://github.com/ala-sk98>`\n",
        "\n",
        "\n"
      ]
    },
    {
      "cell_type": "markdown",
      "metadata": {
        "id": "zVB5b2asA_Km"
      },
      "source": [
        "In this project we apply different deep learning models for colorectal disease classification (CDC) by finetuning and\n",
        "feature extracting the [torchvision\n",
        "models](https://pytorch.org/vision/stable/models.html), all of which have been pretrained on the 1000-class Imagenet dataset. "
      ]
    },
    {
      "cell_type": "markdown",
      "metadata": {
        "id": "MMtKRb2ergyG"
      },
      "source": [
        "\n",
        "This project will build an intuition for finetuning any PyTorch model and will give an indepth look the performance of different deep learning method on a pathology dataset. In this document we will perform two types of transfer learning:\n",
        "finetuning and feature extraction. In **finetuning**, we start with a\n",
        "pretrained model and update *all* of the model’s parameters for our new\n",
        "task, in essence retraining the whole model. In **feature extraction**,\n",
        "we start with a pretrained model and only update the final layer weights\n",
        "from which we derive predictions. It is called feature extraction\n",
        "because we use the pretrained CNN as a fixed feature-extractor, and only\n",
        "change the output layer.\n",
        "\n",
        "In general both transfer learning methods follow the same few steps:\n",
        "\n",
        "-  Initialize the pretrained model\n",
        "-  Reshape the final layer(s) to have the same number of outputs as the\n",
        "   number of classes in the new dataset\n",
        "-  Define for the optimization algorithm which parameters we want to\n",
        "   update during training\n",
        "-  Run the training step"
      ]
    },
    {
      "cell_type": "markdown",
      "metadata": {
        "id": "dMekCVX9Hq1t"
      },
      "source": [
        "Install latest version of Torch and Torch Vision\n",
        "Now install PyTorch 1.7.0.\n"
      ]
    },
    {
      "cell_type": "code",
      "execution_count": null,
      "metadata": {
        "colab": {
          "base_uri": "https://localhost:8080/"
        },
        "id": "92vJLf4MBVFz",
        "outputId": "22c5cd99-95ca-403f-bce5-270943052565"
      },
      "outputs": [
        {
          "output_type": "stream",
          "name": "stdout",
          "text": [
            "Drive already mounted at /content/drive; to attempt to forcibly remount, call drive.mount(\"/content/drive\", force_remount=True).\n"
          ]
        }
      ],
      "source": [
        "from google.colab import drive\n",
        "drive.mount('/content/drive')"
      ]
    },
    {
      "cell_type": "code",
      "execution_count": null,
      "metadata": {
        "colab": {
          "base_uri": "https://localhost:8080/"
        },
        "id": "Whn6uyeSg_aG",
        "outputId": "89d514ae-6cfb-411e-941a-5abef987556c"
      },
      "outputs": [
        {
          "output_type": "stream",
          "name": "stdout",
          "text": [
            "fatal: destination path 'RMSGD' already exists and is not an empty directory.\n"
          ]
        }
      ],
      "source": [
        "! git clone https://github.com/ala-sk98/RMSGD.git"
      ]
    },
    {
      "cell_type": "code",
      "execution_count": null,
      "metadata": {
        "id": "1lot7fWGl2Q-"
      },
      "outputs": [],
      "source": [
        "#! pip install RMSGD"
      ]
    },
    {
      "cell_type": "code",
      "execution_count": null,
      "metadata": {
        "colab": {
          "base_uri": "https://localhost:8080/"
        },
        "id": "cvjmANqFrLrE",
        "outputId": "00be372e-8f78-4f0a-f93c-eda717cb4f96"
      },
      "outputs": [
        {
          "output_type": "stream",
          "name": "stdout",
          "text": [
            "Requirement already satisfied: adamp in /usr/local/lib/python3.7/dist-packages (0.3.0)\n"
          ]
        }
      ],
      "source": [
        "!pip install adamp"
      ]
    },
    {
      "cell_type": "code",
      "source": [
        "! pip install torchmetrics\n"
      ],
      "metadata": {
        "colab": {
          "base_uri": "https://localhost:8080/"
        },
        "id": "qO9mhwYVD2a4",
        "outputId": "f13e7e1d-ef0b-49df-b330-b66698ad52e8"
      },
      "execution_count": null,
      "outputs": [
        {
          "output_type": "stream",
          "name": "stdout",
          "text": [
            "Collecting torchmetrics\n",
            "  Downloading torchmetrics-0.8.0-py3-none-any.whl (408 kB)\n",
            "\u001b[?25l\r\u001b[K     |▉                               | 10 kB 19.4 MB/s eta 0:00:01\r\u001b[K     |█▋                              | 20 kB 19.2 MB/s eta 0:00:01\r\u001b[K     |██▍                             | 30 kB 12.1 MB/s eta 0:00:01\r\u001b[K     |███▏                            | 40 kB 10.2 MB/s eta 0:00:01\r\u001b[K     |████                            | 51 kB 4.7 MB/s eta 0:00:01\r\u001b[K     |████▉                           | 61 kB 5.5 MB/s eta 0:00:01\r\u001b[K     |█████▋                          | 71 kB 6.1 MB/s eta 0:00:01\r\u001b[K     |██████▍                         | 81 kB 6.2 MB/s eta 0:00:01\r\u001b[K     |███████▏                        | 92 kB 6.7 MB/s eta 0:00:01\r\u001b[K     |████████                        | 102 kB 4.9 MB/s eta 0:00:01\r\u001b[K     |████████▉                       | 112 kB 4.9 MB/s eta 0:00:01\r\u001b[K     |█████████▋                      | 122 kB 4.9 MB/s eta 0:00:01\r\u001b[K     |██████████▍                     | 133 kB 4.9 MB/s eta 0:00:01\r\u001b[K     |███████████▎                    | 143 kB 4.9 MB/s eta 0:00:01\r\u001b[K     |████████████                    | 153 kB 4.9 MB/s eta 0:00:01\r\u001b[K     |████████████▉                   | 163 kB 4.9 MB/s eta 0:00:01\r\u001b[K     |█████████████▋                  | 174 kB 4.9 MB/s eta 0:00:01\r\u001b[K     |██████████████▍                 | 184 kB 4.9 MB/s eta 0:00:01\r\u001b[K     |███████████████▎                | 194 kB 4.9 MB/s eta 0:00:01\r\u001b[K     |████████████████                | 204 kB 4.9 MB/s eta 0:00:01\r\u001b[K     |████████████████▉               | 215 kB 4.9 MB/s eta 0:00:01\r\u001b[K     |█████████████████▋              | 225 kB 4.9 MB/s eta 0:00:01\r\u001b[K     |██████████████████▍             | 235 kB 4.9 MB/s eta 0:00:01\r\u001b[K     |███████████████████▎            | 245 kB 4.9 MB/s eta 0:00:01\r\u001b[K     |████████████████████            | 256 kB 4.9 MB/s eta 0:00:01\r\u001b[K     |████████████████████▉           | 266 kB 4.9 MB/s eta 0:00:01\r\u001b[K     |█████████████████████▋          | 276 kB 4.9 MB/s eta 0:00:01\r\u001b[K     |██████████████████████▌         | 286 kB 4.9 MB/s eta 0:00:01\r\u001b[K     |███████████████████████▎        | 296 kB 4.9 MB/s eta 0:00:01\r\u001b[K     |████████████████████████        | 307 kB 4.9 MB/s eta 0:00:01\r\u001b[K     |████████████████████████▉       | 317 kB 4.9 MB/s eta 0:00:01\r\u001b[K     |█████████████████████████▋      | 327 kB 4.9 MB/s eta 0:00:01\r\u001b[K     |██████████████████████████▌     | 337 kB 4.9 MB/s eta 0:00:01\r\u001b[K     |███████████████████████████▎    | 348 kB 4.9 MB/s eta 0:00:01\r\u001b[K     |████████████████████████████    | 358 kB 4.9 MB/s eta 0:00:01\r\u001b[K     |████████████████████████████▉   | 368 kB 4.9 MB/s eta 0:00:01\r\u001b[K     |█████████████████████████████▊  | 378 kB 4.9 MB/s eta 0:00:01\r\u001b[K     |██████████████████████████████▌ | 389 kB 4.9 MB/s eta 0:00:01\r\u001b[K     |███████████████████████████████▎| 399 kB 4.9 MB/s eta 0:00:01\r\u001b[K     |████████████████████████████████| 408 kB 4.9 MB/s \n",
            "\u001b[?25hRequirement already satisfied: packaging in /usr/local/lib/python3.7/dist-packages (from torchmetrics) (21.3)\n",
            "Collecting pyDeprecate==0.3.*\n",
            "  Downloading pyDeprecate-0.3.2-py3-none-any.whl (10 kB)\n",
            "Requirement already satisfied: numpy>=1.17.2 in /usr/local/lib/python3.7/dist-packages (from torchmetrics) (1.21.5)\n",
            "Requirement already satisfied: torch>=1.3.1 in /usr/local/lib/python3.7/dist-packages (from torchmetrics) (1.10.0+cu111)\n",
            "Requirement already satisfied: typing-extensions in /usr/local/lib/python3.7/dist-packages (from torch>=1.3.1->torchmetrics) (4.1.1)\n",
            "Requirement already satisfied: pyparsing!=3.0.5,>=2.0.2 in /usr/local/lib/python3.7/dist-packages (from packaging->torchmetrics) (3.0.8)\n",
            "Installing collected packages: pyDeprecate, torchmetrics\n",
            "Successfully installed pyDeprecate-0.3.2 torchmetrics-0.8.0\n"
          ]
        }
      ]
    },
    {
      "cell_type": "code",
      "execution_count": null,
      "metadata": {
        "colab": {
          "base_uri": "https://localhost:8080/"
        },
        "id": "c7H02Y_HLbmU",
        "outputId": "e857e4d8-ef32-4e28-fdad-fdab915ea438"
      },
      "outputs": [
        {
          "output_type": "stream",
          "name": "stdout",
          "text": [
            "Requirement already satisfied: wandb in /usr/local/lib/python3.7/dist-packages (0.12.14)\n",
            "Requirement already satisfied: python-dateutil>=2.6.1 in /usr/local/lib/python3.7/dist-packages (from wandb) (2.8.2)\n",
            "Requirement already satisfied: GitPython>=1.0.0 in /usr/local/lib/python3.7/dist-packages (from wandb) (3.1.27)\n",
            "Requirement already satisfied: protobuf>=3.12.0 in /usr/local/lib/python3.7/dist-packages (from wandb) (3.17.3)\n",
            "Requirement already satisfied: setproctitle in /usr/local/lib/python3.7/dist-packages (from wandb) (1.2.3)\n",
            "Requirement already satisfied: psutil>=5.0.0 in /usr/local/lib/python3.7/dist-packages (from wandb) (5.4.8)\n",
            "Requirement already satisfied: PyYAML in /usr/local/lib/python3.7/dist-packages (from wandb) (3.13)\n",
            "Requirement already satisfied: six>=1.13.0 in /usr/local/lib/python3.7/dist-packages (from wandb) (1.15.0)\n",
            "Requirement already satisfied: sentry-sdk>=1.0.0 in /usr/local/lib/python3.7/dist-packages (from wandb) (1.5.10)\n",
            "Requirement already satisfied: requests<3,>=2.0.0 in /usr/local/lib/python3.7/dist-packages (from wandb) (2.23.0)\n",
            "Requirement already satisfied: docker-pycreds>=0.4.0 in /usr/local/lib/python3.7/dist-packages (from wandb) (0.4.0)\n",
            "Requirement already satisfied: Click!=8.0.0,>=7.0 in /usr/local/lib/python3.7/dist-packages (from wandb) (7.1.2)\n",
            "Requirement already satisfied: pathtools in /usr/local/lib/python3.7/dist-packages (from wandb) (0.1.2)\n",
            "Requirement already satisfied: promise<3,>=2.0 in /usr/local/lib/python3.7/dist-packages (from wandb) (2.3)\n",
            "Requirement already satisfied: shortuuid>=0.5.0 in /usr/local/lib/python3.7/dist-packages (from wandb) (1.0.8)\n",
            "Requirement already satisfied: typing-extensions>=3.7.4.3 in /usr/local/lib/python3.7/dist-packages (from GitPython>=1.0.0->wandb) (4.1.1)\n",
            "Requirement already satisfied: gitdb<5,>=4.0.1 in /usr/local/lib/python3.7/dist-packages (from GitPython>=1.0.0->wandb) (4.0.9)\n",
            "Requirement already satisfied: smmap<6,>=3.0.1 in /usr/local/lib/python3.7/dist-packages (from gitdb<5,>=4.0.1->GitPython>=1.0.0->wandb) (5.0.0)\n",
            "Requirement already satisfied: idna<3,>=2.5 in /usr/local/lib/python3.7/dist-packages (from requests<3,>=2.0.0->wandb) (2.10)\n",
            "Requirement already satisfied: chardet<4,>=3.0.2 in /usr/local/lib/python3.7/dist-packages (from requests<3,>=2.0.0->wandb) (3.0.4)\n",
            "Requirement already satisfied: certifi>=2017.4.17 in /usr/local/lib/python3.7/dist-packages (from requests<3,>=2.0.0->wandb) (2021.10.8)\n",
            "Requirement already satisfied: urllib3!=1.25.0,!=1.25.1,<1.26,>=1.21.1 in /usr/local/lib/python3.7/dist-packages (from requests<3,>=2.0.0->wandb) (1.24.3)\n",
            "\u001b[34m\u001b[1mwandb\u001b[0m: Currently logged in as: \u001b[33mala_sk\u001b[0m (use `wandb login --relogin` to force relogin)\n"
          ]
        }
      ],
      "source": [
        "! pip install wandb\n",
        "! wandb login"
      ]
    },
    {
      "cell_type": "code",
      "execution_count": null,
      "metadata": {
        "colab": {
          "base_uri": "https://localhost:8080/"
        },
        "id": "U6asrWzfA_Kn",
        "outputId": "ccf8347c-8af9-46ca-f8ba-924948f14efb"
      },
      "outputs": [
        {
          "output_type": "stream",
          "name": "stdout",
          "text": [
            "PyTorch Version:  1.10.0+cu111\n",
            "Torchvision Version:  0.11.1+cu111\n"
          ]
        }
      ],
      "source": [
        "##from rmsgd import RMSGD\n",
        "#from adamp import AdamP\n",
        "\n",
        "from __future__ import print_function \n",
        "from __future__ import division\n",
        "import torch\n",
        "import torch.nn as nn\n",
        "import torch.optim as optim\n",
        "#from torchmetrics import F1Score, Precision\n",
        "import numpy as np\n",
        "import torchvision\n",
        "from torchvision import datasets, models, transforms\n",
        "import matplotlib.pyplot as plt\n",
        "import time\n",
        "import os\n",
        "import copy\n",
        "from sklearn.metrics import confusion_matrix\n",
        "import os\n",
        "import copy\n",
        "from PIL import Image\n",
        "import matplotlib.cm as mpl_color_map\n",
        "from matplotlib.colors import ListedColormap\n",
        "from matplotlib import pyplot as plt\n",
        "from torch.autograd import Variable\n",
        "print(\"PyTorch Version: \",torch.__version__)\n",
        "print(\"Torchvision Version: \",torchvision.__version__)\n",
        "#import wandb\n",
        "\n",
        "#wandb.init(project=\"chaoyang-long-project\", entity=\"ala_sk\")"
      ]
    },
    {
      "cell_type": "markdown",
      "metadata": {
        "id": "SjGSpMxiA_Ko"
      },
      "source": [
        "Inputs\n",
        "------\n",
        "\n",
        "We will use the [Chaoyang dataset](https://github.com/bupt-ai-cz/HSA-NRL). Chaoyang dataset contains 1111 normal, 842 serrated, 1404 adenocarcinoma, 664 adenoma, and 705 normal, 321 serrated, 840 adenocarcinoma, 273 adenoma samples for training and testing, respectively. Colon slides from Chaoyang hospital, the patch size is 512 × 512. Three professional pathologists labeled the patches. This dataset is available [by request](https://bupt-ai-cz.github.io/HSA-NRL/). In orginal dataset had train and test set and all labels were in json file. We convert it to three splits, train, validation and test.\n",
        "\n",
        "::\n",
        "\n",
        "   [resnet, convnext, alexnet, vgg, squeezenet, densenet, inception]\n",
        "\n",
        "The other inputs are as follows: ``num_classes`` is the number of\n",
        "classes in the dataset, ``batch_size`` is the batch size used for\n",
        "training and may be adjusted according to the capability of your\n",
        "machine, ``num_epochs`` is the number of training epochs we want to run,\n",
        "and ``feature_extract`` is a boolean that defines if we are finetuning\n",
        "or feature extracting. If ``feature_extract = False``, the model is\n",
        "finetuned and all model parameters are updated. If\n",
        "``feature_extract = True``, only the last layer parameters are updated,\n",
        "the others remain fixed.\n",
        "\n",
        "\n"
      ]
    },
    {
      "cell_type": "code",
      "execution_count": null,
      "metadata": {
        "id": "eTdq9aTAA_Kp"
      },
      "outputs": [],
      "source": [
        "# Top level data directory. Here we assume the format of the directory conforms \n",
        "#   to the ImageFolder structure\n",
        "data_dir = \"/content/drive/MyDrive/chaoyang-data\"\n",
        "\n",
        "# Models to choose from [resnet, alexnet, vgg, squeezenet, densenet, inception]\n",
        "model_name = \"resnet\"\n",
        "\n",
        "# Number of classes in the dataset\n",
        "num_classes = 4\n",
        "\n",
        "# Batch size for training (change depending on how much memory you have)\n",
        "batch_size = 64\n",
        "\n",
        "# Number of epochs to train for \n",
        "num_epochs = 40\n",
        "\n",
        "# Flag for feature extracting. When False, we finetune the whole model, \n",
        "#   when True we only update the reshaped layer params\n",
        "feature_extract = False\n",
        "\n",
        "wandb.config = {\n",
        "  \"learning_rate\": 0.001,\n",
        "  \"epochs\": 40,\n",
        "  \"batch_size\": 64\n",
        "}"
      ]
    },
    {
      "cell_type": "markdown",
      "metadata": {
        "id": "bzuiT0N8A_Kq"
      },
      "source": [
        "Helper Functions\n",
        "----------------\n",
        "\n",
        "Before we write the code for adjusting the models, lets define a few\n",
        "helper functions.\n",
        "\n",
        "Model Training and Validation Code\n",
        "~~~~~~~~~~~~~~~~~~~~~~~~~~~~~~~~~~\n",
        "\n",
        "The ``train_model`` function handles the training and validation of a\n",
        "given model. As input, it takes a PyTorch model, a dictionary of\n",
        "dataloaders, a loss function, an optimizer, a specified number of epochs\n",
        "to train and validate for, and a boolean flag for when the model is an\n",
        "Inception model. The *is_inception* flag is used to accomodate the\n",
        "*Inception v3* model, as that architecture uses an auxiliary output and\n",
        "the overall model loss respects both the auxiliary output and the final\n",
        "output, as described\n",
        "`here <https://discuss.pytorch.org/t/how-to-optimize-inception-model-with-auxiliary-classifiers/7958>`__.\n",
        "The function trains for the specified number of epochs and after each\n",
        "epoch runs a full validation step. It also keeps track of the best\n",
        "performing model (in terms of validation accuracy), and at the end of\n",
        "training returns the best performing model. After each epoch, the\n",
        "training and validation accuracies are printed.\n",
        "\n",
        "\n"
      ]
    },
    {
      "cell_type": "code",
      "execution_count": null,
      "metadata": {
        "id": "ifuYfOnCA_Kr"
      },
      "outputs": [],
      "source": [
        "def train_model(model, dataloaders, criterion, optimizer, scheduler, num_epochs=25, is_inception=False):\n",
        "    since = time.time()\n",
        "    train_acc_history = []\n",
        "    val_acc_history = []\n",
        "    train_loss_history = []\n",
        "    val_loss_history = []\n",
        "    f1 = F1Score(num_classes=4)\n",
        "    precision = Precision(average='macro', num_classes=4)\n",
        "\n",
        "    best_model_wts = copy.deepcopy(model.state_dict())\n",
        "    best_acc = 0.0\n",
        "\n",
        "    for epoch in range(num_epochs):\n",
        "        print('Epoch {}/{}'.format(epoch, num_epochs - 1))\n",
        "        print('-' * 10)\n",
        "\n",
        "        # Each epoch has a training and validation phase\n",
        "        for phase in ['train', 'val']:\n",
        "            if phase == 'train':\n",
        "                model.train()  # Set model to training mode\n",
        "            else:\n",
        "                model.eval()   # Set model to evaluate mode\n",
        "            since1 = time.time()\n",
        "\n",
        "            running_loss = 0.0\n",
        "            running_corrects = 0\n",
        "\n",
        "            # Iterate over data.\n",
        "            \n",
        "            for inputs, labels in dataloaders[phase]:\n",
        "                inputs = inputs.to(device)\n",
        "                labels = labels.to(device)\n",
        "\n",
        "                # zero the parameter gradients\n",
        "                optimizer.zero_grad()\n",
        "\n",
        "                # forward\n",
        "                # track history if only in train\n",
        "                with torch.set_grad_enabled(phase == 'train'):\n",
        "                    # Get model outputs and calculate loss\n",
        "                    # Special case for inception because in training it has an auxiliary output. In train\n",
        "                    #   mode we calculate the loss by summing the final output and the auxiliary output\n",
        "                    #   but in testing we only consider the final output.\n",
        "                    if is_inception and phase == 'train':\n",
        "                        # From https://discuss.pytorch.org/t/how-to-optimize-inception-model-with-auxiliary-classifiers/7958\n",
        "                        outputs, aux_outputs = model(inputs)\n",
        "                        loss1 = criterion(outputs, labels)\n",
        "                        loss2 = criterion(aux_outputs, labels)\n",
        "                        loss = loss1 + 0.4*loss2\n",
        "                    else:\n",
        "                        outputs = model(inputs)\n",
        "                        loss = criterion(outputs, labels)\n",
        "\n",
        "                    _, preds = torch.max(outputs, 1)\n",
        "\n",
        "                    # backward + optimize only if in training phase\n",
        "                    if phase == 'train':\n",
        "                        loss.backward()\n",
        "                        optimizer.step()\n",
        "                scheduler.step()\n",
        "                # statistics\n",
        "                running_loss += loss.item() * inputs.size(0)\n",
        "                running_corrects += torch.sum(preds == labels.data)\n",
        "\n",
        "                #wandb.log({\"roc\": wandb.plot.roc_curve(labels, outputs)})\n",
        "\n",
        "\n",
        "            epoch_loss = running_loss / len(dataloaders[phase].dataset)\n",
        "            epoch_acc = running_corrects.double() / len(dataloaders[phase].dataset)\n",
        "            time_elapsed = time.time() - since1\n",
        "            if phase == 'train':\n",
        "                train_acc_history.append(epoch_acc)\n",
        "                train_loss_history.append(epoch_loss)\n",
        "                wandb.log({\"train_accuracy\": epoch_acc})\n",
        "                wandb.log({\"train_loss\": epoch_loss})\n",
        "\n",
        "\n",
        "\n",
        "            print('{} Loss: {:.4f} Acc: {:.4f}'.format(phase, epoch_loss, epoch_acc))\n",
        "            print('{} complete in {:.0f}m {:.0f}s'.format(phase, time_elapsed // 60, time_elapsed % 60))\n",
        "\n",
        "            # deep copy the model\n",
        "            if phase == 'val' and epoch_acc > best_acc:\n",
        "                best_acc = epoch_acc\n",
        "                best_model_wts = copy.deepcopy(model.state_dict())\n",
        "            if phase == 'val':\n",
        "                val_acc_history.append(epoch_acc)\n",
        "                val_loss_history.append(epoch_loss)\n",
        "                val_acc = epoch_acc\n",
        "                val_loss = epoch_loss\n",
        "                wandb.log({\"validation_accuracy\": val_acc})\n",
        "                wandb.log({\"validation_loss\": val_loss})\n",
        "        print()\n",
        "\n",
        "    time_elapsed = time.time() - since\n",
        "    print('Training complete in {:.0f}m {:.0f}s'.format(time_elapsed // 60, time_elapsed % 60))\n",
        "    print('Best val Acc: {:4f}'.format(best_acc))\n",
        "\n",
        "    # load best model weights\n",
        "    model.load_state_dict(best_model_wts)\n",
        "    wandb.watch(model)\n",
        "    return model, train_acc_history, val_acc_history, train_loss_history, val_loss_history"
      ]
    },
    {
      "cell_type": "markdown",
      "metadata": {
        "id": "vbBkE-GEA_Ks"
      },
      "source": [
        "Set Model Parameters’ .requires_grad attribute\n",
        "~~~~~~~~~~~~~~~~~~~~~~~~~~~~~~~~~~~~~~~~~~~~~~\n",
        "\n",
        "This helper function sets the ``.requires_grad`` attribute of the\n",
        "parameters in the model to False when we are feature extracting. By\n",
        "default, when we load a pretrained model all of the parameters have\n",
        "``.requires_grad=True``, which is fine if we are training from scratch\n",
        "or finetuning. However, if we are feature extracting and only want to\n",
        "compute gradients for the newly initialized layer then we want all of\n",
        "the other parameters to not require gradients. This will make more sense\n",
        "later.\n",
        "\n",
        "\n"
      ]
    },
    {
      "cell_type": "markdown",
      "metadata": {
        "id": "-tjssVbQBntv"
      },
      "source": [
        ""
      ]
    },
    {
      "cell_type": "code",
      "execution_count": null,
      "metadata": {
        "id": "8gaWrHmMA_Ks"
      },
      "outputs": [],
      "source": [
        "def set_parameter_requires_grad(model, feature_extracting):\n",
        "    if feature_extracting:\n",
        "        for param in model.parameters():\n",
        "            param.requires_grad = False"
      ]
    },
    {
      "cell_type": "code",
      "execution_count": null,
      "metadata": {
        "colab": {
          "base_uri": "https://localhost:8080/"
        },
        "id": "KMUPe33PzdOU",
        "outputId": "1883fd3a-b752-4920-852f-f7469d9b47cd"
      },
      "outputs": [
        {
          "output_type": "stream",
          "name": "stdout",
          "text": [
            "ResNet(\n",
            "  (conv1): Conv2d(3, 64, kernel_size=(7, 7), stride=(2, 2), padding=(3, 3), bias=False)\n",
            "  (bn1): BatchNorm2d(64, eps=1e-05, momentum=0.1, affine=True, track_running_stats=True)\n",
            "  (relu): ReLU(inplace=True)\n",
            "  (maxpool): MaxPool2d(kernel_size=3, stride=2, padding=1, dilation=1, ceil_mode=False)\n",
            "  (layer1): Sequential(\n",
            "    (0): Bottleneck(\n",
            "      (conv1): Conv2d(64, 128, kernel_size=(1, 1), stride=(1, 1), bias=False)\n",
            "      (bn1): BatchNorm2d(128, eps=1e-05, momentum=0.1, affine=True, track_running_stats=True)\n",
            "      (conv2): Conv2d(128, 128, kernel_size=(3, 3), stride=(1, 1), padding=(1, 1), groups=32, bias=False)\n",
            "      (bn2): BatchNorm2d(128, eps=1e-05, momentum=0.1, affine=True, track_running_stats=True)\n",
            "      (conv3): Conv2d(128, 256, kernel_size=(1, 1), stride=(1, 1), bias=False)\n",
            "      (bn3): BatchNorm2d(256, eps=1e-05, momentum=0.1, affine=True, track_running_stats=True)\n",
            "      (relu): ReLU(inplace=True)\n",
            "      (downsample): Sequential(\n",
            "        (0): Conv2d(64, 256, kernel_size=(1, 1), stride=(1, 1), bias=False)\n",
            "        (1): BatchNorm2d(256, eps=1e-05, momentum=0.1, affine=True, track_running_stats=True)\n",
            "      )\n",
            "    )\n",
            "    (1): Bottleneck(\n",
            "      (conv1): Conv2d(256, 128, kernel_size=(1, 1), stride=(1, 1), bias=False)\n",
            "      (bn1): BatchNorm2d(128, eps=1e-05, momentum=0.1, affine=True, track_running_stats=True)\n",
            "      (conv2): Conv2d(128, 128, kernel_size=(3, 3), stride=(1, 1), padding=(1, 1), groups=32, bias=False)\n",
            "      (bn2): BatchNorm2d(128, eps=1e-05, momentum=0.1, affine=True, track_running_stats=True)\n",
            "      (conv3): Conv2d(128, 256, kernel_size=(1, 1), stride=(1, 1), bias=False)\n",
            "      (bn3): BatchNorm2d(256, eps=1e-05, momentum=0.1, affine=True, track_running_stats=True)\n",
            "      (relu): ReLU(inplace=True)\n",
            "    )\n",
            "    (2): Bottleneck(\n",
            "      (conv1): Conv2d(256, 128, kernel_size=(1, 1), stride=(1, 1), bias=False)\n",
            "      (bn1): BatchNorm2d(128, eps=1e-05, momentum=0.1, affine=True, track_running_stats=True)\n",
            "      (conv2): Conv2d(128, 128, kernel_size=(3, 3), stride=(1, 1), padding=(1, 1), groups=32, bias=False)\n",
            "      (bn2): BatchNorm2d(128, eps=1e-05, momentum=0.1, affine=True, track_running_stats=True)\n",
            "      (conv3): Conv2d(128, 256, kernel_size=(1, 1), stride=(1, 1), bias=False)\n",
            "      (bn3): BatchNorm2d(256, eps=1e-05, momentum=0.1, affine=True, track_running_stats=True)\n",
            "      (relu): ReLU(inplace=True)\n",
            "    )\n",
            "  )\n",
            "  (layer2): Sequential(\n",
            "    (0): Bottleneck(\n",
            "      (conv1): Conv2d(256, 256, kernel_size=(1, 1), stride=(1, 1), bias=False)\n",
            "      (bn1): BatchNorm2d(256, eps=1e-05, momentum=0.1, affine=True, track_running_stats=True)\n",
            "      (conv2): Conv2d(256, 256, kernel_size=(3, 3), stride=(2, 2), padding=(1, 1), groups=32, bias=False)\n",
            "      (bn2): BatchNorm2d(256, eps=1e-05, momentum=0.1, affine=True, track_running_stats=True)\n",
            "      (conv3): Conv2d(256, 512, kernel_size=(1, 1), stride=(1, 1), bias=False)\n",
            "      (bn3): BatchNorm2d(512, eps=1e-05, momentum=0.1, affine=True, track_running_stats=True)\n",
            "      (relu): ReLU(inplace=True)\n",
            "      (downsample): Sequential(\n",
            "        (0): Conv2d(256, 512, kernel_size=(1, 1), stride=(2, 2), bias=False)\n",
            "        (1): BatchNorm2d(512, eps=1e-05, momentum=0.1, affine=True, track_running_stats=True)\n",
            "      )\n",
            "    )\n",
            "    (1): Bottleneck(\n",
            "      (conv1): Conv2d(512, 256, kernel_size=(1, 1), stride=(1, 1), bias=False)\n",
            "      (bn1): BatchNorm2d(256, eps=1e-05, momentum=0.1, affine=True, track_running_stats=True)\n",
            "      (conv2): Conv2d(256, 256, kernel_size=(3, 3), stride=(1, 1), padding=(1, 1), groups=32, bias=False)\n",
            "      (bn2): BatchNorm2d(256, eps=1e-05, momentum=0.1, affine=True, track_running_stats=True)\n",
            "      (conv3): Conv2d(256, 512, kernel_size=(1, 1), stride=(1, 1), bias=False)\n",
            "      (bn3): BatchNorm2d(512, eps=1e-05, momentum=0.1, affine=True, track_running_stats=True)\n",
            "      (relu): ReLU(inplace=True)\n",
            "    )\n",
            "    (2): Bottleneck(\n",
            "      (conv1): Conv2d(512, 256, kernel_size=(1, 1), stride=(1, 1), bias=False)\n",
            "      (bn1): BatchNorm2d(256, eps=1e-05, momentum=0.1, affine=True, track_running_stats=True)\n",
            "      (conv2): Conv2d(256, 256, kernel_size=(3, 3), stride=(1, 1), padding=(1, 1), groups=32, bias=False)\n",
            "      (bn2): BatchNorm2d(256, eps=1e-05, momentum=0.1, affine=True, track_running_stats=True)\n",
            "      (conv3): Conv2d(256, 512, kernel_size=(1, 1), stride=(1, 1), bias=False)\n",
            "      (bn3): BatchNorm2d(512, eps=1e-05, momentum=0.1, affine=True, track_running_stats=True)\n",
            "      (relu): ReLU(inplace=True)\n",
            "    )\n",
            "    (3): Bottleneck(\n",
            "      (conv1): Conv2d(512, 256, kernel_size=(1, 1), stride=(1, 1), bias=False)\n",
            "      (bn1): BatchNorm2d(256, eps=1e-05, momentum=0.1, affine=True, track_running_stats=True)\n",
            "      (conv2): Conv2d(256, 256, kernel_size=(3, 3), stride=(1, 1), padding=(1, 1), groups=32, bias=False)\n",
            "      (bn2): BatchNorm2d(256, eps=1e-05, momentum=0.1, affine=True, track_running_stats=True)\n",
            "      (conv3): Conv2d(256, 512, kernel_size=(1, 1), stride=(1, 1), bias=False)\n",
            "      (bn3): BatchNorm2d(512, eps=1e-05, momentum=0.1, affine=True, track_running_stats=True)\n",
            "      (relu): ReLU(inplace=True)\n",
            "    )\n",
            "  )\n",
            "  (layer3): Sequential(\n",
            "    (0): Bottleneck(\n",
            "      (conv1): Conv2d(512, 512, kernel_size=(1, 1), stride=(1, 1), bias=False)\n",
            "      (bn1): BatchNorm2d(512, eps=1e-05, momentum=0.1, affine=True, track_running_stats=True)\n",
            "      (conv2): Conv2d(512, 512, kernel_size=(3, 3), stride=(2, 2), padding=(1, 1), groups=32, bias=False)\n",
            "      (bn2): BatchNorm2d(512, eps=1e-05, momentum=0.1, affine=True, track_running_stats=True)\n",
            "      (conv3): Conv2d(512, 1024, kernel_size=(1, 1), stride=(1, 1), bias=False)\n",
            "      (bn3): BatchNorm2d(1024, eps=1e-05, momentum=0.1, affine=True, track_running_stats=True)\n",
            "      (relu): ReLU(inplace=True)\n",
            "      (downsample): Sequential(\n",
            "        (0): Conv2d(512, 1024, kernel_size=(1, 1), stride=(2, 2), bias=False)\n",
            "        (1): BatchNorm2d(1024, eps=1e-05, momentum=0.1, affine=True, track_running_stats=True)\n",
            "      )\n",
            "    )\n",
            "    (1): Bottleneck(\n",
            "      (conv1): Conv2d(1024, 512, kernel_size=(1, 1), stride=(1, 1), bias=False)\n",
            "      (bn1): BatchNorm2d(512, eps=1e-05, momentum=0.1, affine=True, track_running_stats=True)\n",
            "      (conv2): Conv2d(512, 512, kernel_size=(3, 3), stride=(1, 1), padding=(1, 1), groups=32, bias=False)\n",
            "      (bn2): BatchNorm2d(512, eps=1e-05, momentum=0.1, affine=True, track_running_stats=True)\n",
            "      (conv3): Conv2d(512, 1024, kernel_size=(1, 1), stride=(1, 1), bias=False)\n",
            "      (bn3): BatchNorm2d(1024, eps=1e-05, momentum=0.1, affine=True, track_running_stats=True)\n",
            "      (relu): ReLU(inplace=True)\n",
            "    )\n",
            "    (2): Bottleneck(\n",
            "      (conv1): Conv2d(1024, 512, kernel_size=(1, 1), stride=(1, 1), bias=False)\n",
            "      (bn1): BatchNorm2d(512, eps=1e-05, momentum=0.1, affine=True, track_running_stats=True)\n",
            "      (conv2): Conv2d(512, 512, kernel_size=(3, 3), stride=(1, 1), padding=(1, 1), groups=32, bias=False)\n",
            "      (bn2): BatchNorm2d(512, eps=1e-05, momentum=0.1, affine=True, track_running_stats=True)\n",
            "      (conv3): Conv2d(512, 1024, kernel_size=(1, 1), stride=(1, 1), bias=False)\n",
            "      (bn3): BatchNorm2d(1024, eps=1e-05, momentum=0.1, affine=True, track_running_stats=True)\n",
            "      (relu): ReLU(inplace=True)\n",
            "    )\n",
            "    (3): Bottleneck(\n",
            "      (conv1): Conv2d(1024, 512, kernel_size=(1, 1), stride=(1, 1), bias=False)\n",
            "      (bn1): BatchNorm2d(512, eps=1e-05, momentum=0.1, affine=True, track_running_stats=True)\n",
            "      (conv2): Conv2d(512, 512, kernel_size=(3, 3), stride=(1, 1), padding=(1, 1), groups=32, bias=False)\n",
            "      (bn2): BatchNorm2d(512, eps=1e-05, momentum=0.1, affine=True, track_running_stats=True)\n",
            "      (conv3): Conv2d(512, 1024, kernel_size=(1, 1), stride=(1, 1), bias=False)\n",
            "      (bn3): BatchNorm2d(1024, eps=1e-05, momentum=0.1, affine=True, track_running_stats=True)\n",
            "      (relu): ReLU(inplace=True)\n",
            "    )\n",
            "    (4): Bottleneck(\n",
            "      (conv1): Conv2d(1024, 512, kernel_size=(1, 1), stride=(1, 1), bias=False)\n",
            "      (bn1): BatchNorm2d(512, eps=1e-05, momentum=0.1, affine=True, track_running_stats=True)\n",
            "      (conv2): Conv2d(512, 512, kernel_size=(3, 3), stride=(1, 1), padding=(1, 1), groups=32, bias=False)\n",
            "      (bn2): BatchNorm2d(512, eps=1e-05, momentum=0.1, affine=True, track_running_stats=True)\n",
            "      (conv3): Conv2d(512, 1024, kernel_size=(1, 1), stride=(1, 1), bias=False)\n",
            "      (bn3): BatchNorm2d(1024, eps=1e-05, momentum=0.1, affine=True, track_running_stats=True)\n",
            "      (relu): ReLU(inplace=True)\n",
            "    )\n",
            "    (5): Bottleneck(\n",
            "      (conv1): Conv2d(1024, 512, kernel_size=(1, 1), stride=(1, 1), bias=False)\n",
            "      (bn1): BatchNorm2d(512, eps=1e-05, momentum=0.1, affine=True, track_running_stats=True)\n",
            "      (conv2): Conv2d(512, 512, kernel_size=(3, 3), stride=(1, 1), padding=(1, 1), groups=32, bias=False)\n",
            "      (bn2): BatchNorm2d(512, eps=1e-05, momentum=0.1, affine=True, track_running_stats=True)\n",
            "      (conv3): Conv2d(512, 1024, kernel_size=(1, 1), stride=(1, 1), bias=False)\n",
            "      (bn3): BatchNorm2d(1024, eps=1e-05, momentum=0.1, affine=True, track_running_stats=True)\n",
            "      (relu): ReLU(inplace=True)\n",
            "    )\n",
            "  )\n",
            "  (layer4): Sequential(\n",
            "    (0): Bottleneck(\n",
            "      (conv1): Conv2d(1024, 1024, kernel_size=(1, 1), stride=(1, 1), bias=False)\n",
            "      (bn1): BatchNorm2d(1024, eps=1e-05, momentum=0.1, affine=True, track_running_stats=True)\n",
            "      (conv2): Conv2d(1024, 1024, kernel_size=(3, 3), stride=(2, 2), padding=(1, 1), groups=32, bias=False)\n",
            "      (bn2): BatchNorm2d(1024, eps=1e-05, momentum=0.1, affine=True, track_running_stats=True)\n",
            "      (conv3): Conv2d(1024, 2048, kernel_size=(1, 1), stride=(1, 1), bias=False)\n",
            "      (bn3): BatchNorm2d(2048, eps=1e-05, momentum=0.1, affine=True, track_running_stats=True)\n",
            "      (relu): ReLU(inplace=True)\n",
            "      (downsample): Sequential(\n",
            "        (0): Conv2d(1024, 2048, kernel_size=(1, 1), stride=(2, 2), bias=False)\n",
            "        (1): BatchNorm2d(2048, eps=1e-05, momentum=0.1, affine=True, track_running_stats=True)\n",
            "      )\n",
            "    )\n",
            "    (1): Bottleneck(\n",
            "      (conv1): Conv2d(2048, 1024, kernel_size=(1, 1), stride=(1, 1), bias=False)\n",
            "      (bn1): BatchNorm2d(1024, eps=1e-05, momentum=0.1, affine=True, track_running_stats=True)\n",
            "      (conv2): Conv2d(1024, 1024, kernel_size=(3, 3), stride=(1, 1), padding=(1, 1), groups=32, bias=False)\n",
            "      (bn2): BatchNorm2d(1024, eps=1e-05, momentum=0.1, affine=True, track_running_stats=True)\n",
            "      (conv3): Conv2d(1024, 2048, kernel_size=(1, 1), stride=(1, 1), bias=False)\n",
            "      (bn3): BatchNorm2d(2048, eps=1e-05, momentum=0.1, affine=True, track_running_stats=True)\n",
            "      (relu): ReLU(inplace=True)\n",
            "    )\n",
            "    (2): Bottleneck(\n",
            "      (conv1): Conv2d(2048, 1024, kernel_size=(1, 1), stride=(1, 1), bias=False)\n",
            "      (bn1): BatchNorm2d(1024, eps=1e-05, momentum=0.1, affine=True, track_running_stats=True)\n",
            "      (conv2): Conv2d(1024, 1024, kernel_size=(3, 3), stride=(1, 1), padding=(1, 1), groups=32, bias=False)\n",
            "      (bn2): BatchNorm2d(1024, eps=1e-05, momentum=0.1, affine=True, track_running_stats=True)\n",
            "      (conv3): Conv2d(1024, 2048, kernel_size=(1, 1), stride=(1, 1), bias=False)\n",
            "      (bn3): BatchNorm2d(2048, eps=1e-05, momentum=0.1, affine=True, track_running_stats=True)\n",
            "      (relu): ReLU(inplace=True)\n",
            "    )\n",
            "  )\n",
            "  (avgpool): AdaptiveAvgPool2d(output_size=(1, 1))\n",
            "  (fc): Linear(in_features=2048, out_features=4, bias=True)\n",
            ")\n"
          ]
        }
      ],
      "source": [
        "def initialize_model(model_name, num_classes, feature_extract, use_pretrained=True):\n",
        "    # Initialize these variables which will be set in this if statement. Each of these\n",
        "    #   variables is model specific.\n",
        "    model_ft = None\n",
        "    input_size = 0\n",
        "\n",
        "    if model_name == \"resnet\":\n",
        "        \"\"\" Resnet18\n",
        "        \"\"\"\n",
        "        model_ft = models.resnext50_32x4d(pretrained=use_pretrained)\n",
        "        set_parameter_requires_grad(model_ft, feature_extract)\n",
        "        num_ftrs = model_ft.fc.in_features\n",
        "        model_ft.fc = nn.Linear(num_ftrs, num_classes)\n",
        "        input_size = 224\n",
        "\n",
        "\n",
        "    else:\n",
        "        print(\"Invalid model name, exiting...\")\n",
        "        exit()\n",
        "    \n",
        "    return model_ft, input_size\n",
        "\n",
        "# Initialize the model for this run\n",
        "model_ft, input_size = initialize_model(model_name, num_classes, feature_extract, use_pretrained=True)\n",
        "\n",
        "# Print the model we just instantiated\n",
        "print(model_ft)"
      ]
    },
    {
      "cell_type": "markdown",
      "metadata": {
        "id": "wEt8cd6_A_Ky"
      },
      "source": [
        "Load Data\n",
        "---------\n",
        "\n",
        "Now that we know what the input size must be, we can initialize the data\n",
        "transforms, image datasets, and the dataloaders. Notice, the models were\n",
        "pretrained with the hard-coded normalization values, as described\n",
        "`here <https://pytorch.org/docs/master/torchvision/models.html>`__.\n",
        "\n",
        "\n"
      ]
    },
    {
      "cell_type": "code",
      "execution_count": null,
      "metadata": {
        "colab": {
          "base_uri": "https://localhost:8080/"
        },
        "id": "lRxiREKOA_Kz",
        "outputId": "48c39d43-f142-41b4-fe56-7e079c2c8226"
      },
      "outputs": [
        {
          "output_type": "stream",
          "name": "stdout",
          "text": [
            "{'train': Compose(\n",
            "    Resize(size=224, interpolation=bilinear, max_size=None, antialias=None)\n",
            "    RandomRotation(degrees=[-90.0, 90.0], interpolation=nearest, expand=False, fill=0)\n",
            "    RandomHorizontalFlip(p=0.5)\n",
            "    RandomVerticalFlip(p=0.5)\n",
            "    ToTensor()\n",
            "    Normalize(mean=[0.647, 0.5523, 0.6695], std=[0.1698, 0.1994, 0.1284])\n",
            "), 'val': Compose(\n",
            "    Resize(size=224, interpolation=bilinear, max_size=None, antialias=None)\n",
            "    ToTensor()\n",
            "    Normalize(mean=[0.647, 0.5523, 0.6695], std=[0.1698, 0.1994, 0.1284])\n",
            "), 'test': Compose(\n",
            "    Resize(size=224, interpolation=bilinear, max_size=None, antialias=None)\n",
            "    ToTensor()\n",
            ")}\n",
            "Initializing Datasets and Dataloaders...\n"
          ]
        }
      ],
      "source": [
        "from torch.utils.data import dataset\n",
        "from torchvision.transforms.transforms import RandomCrop\n",
        "# Data augmentation and normalization for training\n",
        "# Just normalization for validation\n",
        "data_transforms = {\n",
        "    'train': transforms.Compose([\n",
        "        transforms.Resize(input_size),\n",
        "        #transforms.CenterCrop(input_size),\n",
        "        #transforms.FiveCrop(input_size),\n",
        "        #transforms.RandomCrop(input_size),\n",
        "        transforms.RandomRotation(90),\n",
        "        transforms.RandomHorizontalFlip(),\n",
        "        transforms.RandomVerticalFlip(),\n",
        "        transforms.ToTensor(),\n",
        "        transforms.Normalize([0.6470, 0.5523, 0.6695], [0.1698, 0.1994, 0.1284])\n",
        "    ]),\n",
        "    'val': transforms.Compose([\n",
        "        #transforms.RandomCrop(input_size),\n",
        "        #transforms.CenterCrop(input_size),\n",
        "        #transforms.FiveCrop(input_size),\n",
        "        transforms.Resize(input_size),                         \n",
        "        #transforms.RandomHorizontalFlip(),\n",
        "        #transforms.RandomVerticalFlip(),\n",
        "        transforms.ToTensor(),\n",
        "        transforms.Normalize([0.6470, 0.5523, 0.6695], [0.1698, 0.1994, 0.1284])\n",
        "    ]),\n",
        "    'test': transforms.Compose([\n",
        "        #transforms.RandomCrop(input_size),                      \n",
        "        transforms.Resize(input_size),\n",
        "        transforms.ToTensor(),\n",
        "        #transforms.Normalize([0.6470, 0.5523, 0.6695], [0.6470, 0.5523, 0.6695])\n",
        "    ]),    \n",
        "}\n",
        "print(data_transforms)\n",
        "print(\"Initializing Datasets and Dataloaders...\")\n",
        "\n",
        "# Create training and validation datasets\n",
        "image_datasets = {x: datasets.ImageFolder(os.path.join(data_dir, x), data_transforms[x]) for x in ['train', 'val', 'test']}\n",
        "# Create training and validation dataloaders\n",
        "dataloaders_dict = {x: torch.utils.data.DataLoader(image_datasets[x], batch_size=batch_size, shuffle=True, num_workers=2) for x in ['train', 'val', 'test']}\n",
        "'''\n",
        "mean = 0.\n",
        "std = 0.\n",
        "loader1 = torch.utils.data.DataLoader(image_datasets['train'], batch_size=batch_size, shuffle=True, num_workers=2)\n",
        "loader2 = torch.utils.data.DataLoader(image_datasets['val'], batch_size=batch_size, shuffle=True, num_workers=2)\n",
        "for images, _ in loader1:\n",
        "    batch_samples = images.size(0) # batch size (the last batch can have smaller size!)\n",
        "    images = images.view(batch_samples, images.size(1), -1)\n",
        "    mean += images.mean(2).sum(0)\n",
        "    std += images.std(2).sum(0)\n",
        "\n",
        "for images, _ in loader2:\n",
        "    batch_samples = images.size(0) # batch size (the last batch can have smaller size!)\n",
        "    images = images.view(batch_samples, images.size(1), -1)\n",
        "    mean += images.mean(2).sum(0)\n",
        "    std += images.std(2).sum(0)\n",
        "\n",
        "mean /= (len(loader1.dataset)+len(loader2.dataset))\n",
        "std /= (len(loader1.dataset)+len(loader2.dataset))\n",
        "print (mean, std)\n",
        "'''\n",
        "\n",
        "# Detect if we have a GPU available\n",
        "device = torch.device(\"cuda:0\" if torch.cuda.is_available() else \"cpu\")"
      ]
    },
    {
      "cell_type": "markdown",
      "metadata": {
        "id": "M2q7rTh0A_Kz"
      },
      "source": [
        "Create the Optimizer\n",
        "--------------------\n",
        "\n",
        "Now that the model structure is correct, the final step for finetuning\n",
        "and feature extracting is to create an optimizer that only updates the\n",
        "desired parameters. Recall that after loading the pretrained model, but\n",
        "before reshaping, if ``feature_extract=True`` we manually set all of the\n",
        "parameter’s ``.requires_grad`` attributes to False. Then the\n",
        "reinitialized layer’s parameters have ``.requires_grad=True`` by\n",
        "default. So now we know that *all parameters that have\n",
        ".requires_grad=True should be optimized.* Next, we make a list of such\n",
        "parameters and input this list to the SGD algorithm constructor.\n",
        "\n",
        "To verify this, check out the printed parameters to learn. When\n",
        "finetuning, this list should be long and include all of the model\n",
        "parameters. However, when feature extracting this list should be short\n",
        "and only include the weights and biases of the reshaped layers.\n",
        "\n",
        "\n"
      ]
    },
    {
      "cell_type": "code",
      "execution_count": null,
      "metadata": {
        "colab": {
          "base_uri": "https://localhost:8080/"
        },
        "id": "soBMkhJ0A_Kz",
        "outputId": "b9f7776d-2283-46fa-caf1-0fd9c29d29c3"
      },
      "outputs": [
        {
          "output_type": "stream",
          "name": "stdout",
          "text": [
            "Params to learn:\n",
            "\t conv1.weight\n",
            "\t bn1.weight\n",
            "\t bn1.bias\n",
            "\t layer1.0.conv1.weight\n",
            "\t layer1.0.bn1.weight\n",
            "\t layer1.0.bn1.bias\n",
            "\t layer1.0.conv2.weight\n",
            "\t layer1.0.bn2.weight\n",
            "\t layer1.0.bn2.bias\n",
            "\t layer1.0.conv3.weight\n",
            "\t layer1.0.bn3.weight\n",
            "\t layer1.0.bn3.bias\n",
            "\t layer1.0.downsample.0.weight\n",
            "\t layer1.0.downsample.1.weight\n",
            "\t layer1.0.downsample.1.bias\n",
            "\t layer1.1.conv1.weight\n",
            "\t layer1.1.bn1.weight\n",
            "\t layer1.1.bn1.bias\n",
            "\t layer1.1.conv2.weight\n",
            "\t layer1.1.bn2.weight\n",
            "\t layer1.1.bn2.bias\n",
            "\t layer1.1.conv3.weight\n",
            "\t layer1.1.bn3.weight\n",
            "\t layer1.1.bn3.bias\n",
            "\t layer1.2.conv1.weight\n",
            "\t layer1.2.bn1.weight\n",
            "\t layer1.2.bn1.bias\n",
            "\t layer1.2.conv2.weight\n",
            "\t layer1.2.bn2.weight\n",
            "\t layer1.2.bn2.bias\n",
            "\t layer1.2.conv3.weight\n",
            "\t layer1.2.bn3.weight\n",
            "\t layer1.2.bn3.bias\n",
            "\t layer2.0.conv1.weight\n",
            "\t layer2.0.bn1.weight\n",
            "\t layer2.0.bn1.bias\n",
            "\t layer2.0.conv2.weight\n",
            "\t layer2.0.bn2.weight\n",
            "\t layer2.0.bn2.bias\n",
            "\t layer2.0.conv3.weight\n",
            "\t layer2.0.bn3.weight\n",
            "\t layer2.0.bn3.bias\n",
            "\t layer2.0.downsample.0.weight\n",
            "\t layer2.0.downsample.1.weight\n",
            "\t layer2.0.downsample.1.bias\n",
            "\t layer2.1.conv1.weight\n",
            "\t layer2.1.bn1.weight\n",
            "\t layer2.1.bn1.bias\n",
            "\t layer2.1.conv2.weight\n",
            "\t layer2.1.bn2.weight\n",
            "\t layer2.1.bn2.bias\n",
            "\t layer2.1.conv3.weight\n",
            "\t layer2.1.bn3.weight\n",
            "\t layer2.1.bn3.bias\n",
            "\t layer2.2.conv1.weight\n",
            "\t layer2.2.bn1.weight\n",
            "\t layer2.2.bn1.bias\n",
            "\t layer2.2.conv2.weight\n",
            "\t layer2.2.bn2.weight\n",
            "\t layer2.2.bn2.bias\n",
            "\t layer2.2.conv3.weight\n",
            "\t layer2.2.bn3.weight\n",
            "\t layer2.2.bn3.bias\n",
            "\t layer2.3.conv1.weight\n",
            "\t layer2.3.bn1.weight\n",
            "\t layer2.3.bn1.bias\n",
            "\t layer2.3.conv2.weight\n",
            "\t layer2.3.bn2.weight\n",
            "\t layer2.3.bn2.bias\n",
            "\t layer2.3.conv3.weight\n",
            "\t layer2.3.bn3.weight\n",
            "\t layer2.3.bn3.bias\n",
            "\t layer3.0.conv1.weight\n",
            "\t layer3.0.bn1.weight\n",
            "\t layer3.0.bn1.bias\n",
            "\t layer3.0.conv2.weight\n",
            "\t layer3.0.bn2.weight\n",
            "\t layer3.0.bn2.bias\n",
            "\t layer3.0.conv3.weight\n",
            "\t layer3.0.bn3.weight\n",
            "\t layer3.0.bn3.bias\n",
            "\t layer3.0.downsample.0.weight\n",
            "\t layer3.0.downsample.1.weight\n",
            "\t layer3.0.downsample.1.bias\n",
            "\t layer3.1.conv1.weight\n",
            "\t layer3.1.bn1.weight\n",
            "\t layer3.1.bn1.bias\n",
            "\t layer3.1.conv2.weight\n",
            "\t layer3.1.bn2.weight\n",
            "\t layer3.1.bn2.bias\n",
            "\t layer3.1.conv3.weight\n",
            "\t layer3.1.bn3.weight\n",
            "\t layer3.1.bn3.bias\n",
            "\t layer3.2.conv1.weight\n",
            "\t layer3.2.bn1.weight\n",
            "\t layer3.2.bn1.bias\n",
            "\t layer3.2.conv2.weight\n",
            "\t layer3.2.bn2.weight\n",
            "\t layer3.2.bn2.bias\n",
            "\t layer3.2.conv3.weight\n",
            "\t layer3.2.bn3.weight\n",
            "\t layer3.2.bn3.bias\n",
            "\t layer3.3.conv1.weight\n",
            "\t layer3.3.bn1.weight\n",
            "\t layer3.3.bn1.bias\n",
            "\t layer3.3.conv2.weight\n",
            "\t layer3.3.bn2.weight\n",
            "\t layer3.3.bn2.bias\n",
            "\t layer3.3.conv3.weight\n",
            "\t layer3.3.bn3.weight\n",
            "\t layer3.3.bn3.bias\n",
            "\t layer3.4.conv1.weight\n",
            "\t layer3.4.bn1.weight\n",
            "\t layer3.4.bn1.bias\n",
            "\t layer3.4.conv2.weight\n",
            "\t layer3.4.bn2.weight\n",
            "\t layer3.4.bn2.bias\n",
            "\t layer3.4.conv3.weight\n",
            "\t layer3.4.bn3.weight\n",
            "\t layer3.4.bn3.bias\n",
            "\t layer3.5.conv1.weight\n",
            "\t layer3.5.bn1.weight\n",
            "\t layer3.5.bn1.bias\n",
            "\t layer3.5.conv2.weight\n",
            "\t layer3.5.bn2.weight\n",
            "\t layer3.5.bn2.bias\n",
            "\t layer3.5.conv3.weight\n",
            "\t layer3.5.bn3.weight\n",
            "\t layer3.5.bn3.bias\n",
            "\t layer4.0.conv1.weight\n",
            "\t layer4.0.bn1.weight\n",
            "\t layer4.0.bn1.bias\n",
            "\t layer4.0.conv2.weight\n",
            "\t layer4.0.bn2.weight\n",
            "\t layer4.0.bn2.bias\n",
            "\t layer4.0.conv3.weight\n",
            "\t layer4.0.bn3.weight\n",
            "\t layer4.0.bn3.bias\n",
            "\t layer4.0.downsample.0.weight\n",
            "\t layer4.0.downsample.1.weight\n",
            "\t layer4.0.downsample.1.bias\n",
            "\t layer4.1.conv1.weight\n",
            "\t layer4.1.bn1.weight\n",
            "\t layer4.1.bn1.bias\n",
            "\t layer4.1.conv2.weight\n",
            "\t layer4.1.bn2.weight\n",
            "\t layer4.1.bn2.bias\n",
            "\t layer4.1.conv3.weight\n",
            "\t layer4.1.bn3.weight\n",
            "\t layer4.1.bn3.bias\n",
            "\t layer4.2.conv1.weight\n",
            "\t layer4.2.bn1.weight\n",
            "\t layer4.2.bn1.bias\n",
            "\t layer4.2.conv2.weight\n",
            "\t layer4.2.bn2.weight\n",
            "\t layer4.2.bn2.bias\n",
            "\t layer4.2.conv3.weight\n",
            "\t layer4.2.bn3.weight\n",
            "\t layer4.2.bn3.bias\n",
            "\t fc.weight\n",
            "\t fc.bias\n",
            "optimizer = AdamP(params_to_update, lr=0.0001, betas=(0.9, 0.999), weight_decay=1e-2)\n"
          ]
        }
      ],
      "source": [
        "# Send the model to GPU\n",
        "model_ft = model_ft.to(device)\n",
        "\n",
        "# Gather the parameters to be optimized/updated in this run. If we are\n",
        "#  finetuning we will be updating all parameters. However, if we are \n",
        "#  doing feature extract method, we will only update the parameters\n",
        "#  that we have just initialized, i.e. the parameters with requires_grad\n",
        "#  is True.\n",
        "params_to_update = model_ft.parameters()\n",
        "print(\"Params to learn:\")\n",
        "if feature_extract:\n",
        "    params_to_update = []\n",
        "    for name,param in model_ft.named_parameters():\n",
        "        if param.requires_grad == True:\n",
        "            params_to_update.append(param)\n",
        "            print(\"\\t\",name)\n",
        "else:\n",
        "    for name,param in model_ft.named_parameters():\n",
        "        if param.requires_grad == True:\n",
        "            print(\"\\t\",name)\n",
        "\n",
        "# Observe that all parameters are being optimized\n",
        "#optimizer_ft = RMSGD(params_to_update, lr=0.001, momentum=0.9, weight_decay=1e-4)\n",
        "optimizer_ft = AdamP(params_to_update, lr=0.0001, betas=(0.9, 0.999), weight_decay=1e-2)\n",
        "scheduler_ft = torch.optim.lr_scheduler.CyclicLR(optimizer_ft, base_lr=0.0001, max_lr=0.001, cycle_momentum=False)\n",
        "\n",
        "print('optimizer = AdamP(params_to_update, lr=0.0001, betas=(0.9, 0.999), weight_decay=1e-2)')"
      ]
    },
    {
      "cell_type": "markdown",
      "metadata": {
        "id": "iFf44aRAA_K0"
      },
      "source": [
        "Run Training and Validation Step\n",
        "--------------------------------\n",
        "\n",
        "Finally, the last step is to setup the loss for the model, then run the\n",
        "training and validation function for the set number of epochs. Notice,\n",
        "depending on the number of epochs this step may take a while on a CPU.\n",
        "Also, the default learning rate is not optimal for all of the models, so\n",
        "to achieve maximum accuracy it would be necessary to tune for each model\n",
        "separately.\n",
        "\n",
        "\n"
      ]
    },
    {
      "cell_type": "code",
      "source": [
        "class_count = np.array([[1111, 842, 1404, 664], [352, 321, 420, 273]])\n",
        "class_count_total = np.sum(class_count, axis=0)\n",
        "class_sum = np.sum(class_count)\n",
        "class_weights = np.array([1-(class_count_total[0]/class_sum), 1-(class_count_total[1]/class_sum), 1-(class_count_total[2]/class_sum), 1-(class_count_total[3]/class_sum)])\n",
        "class_weights = class_weights.astype(np.float32)\n",
        "class_weights = torch.from_numpy(class_weights)\n",
        "class_weights = class_weights.to(device)\n",
        "print(class_weights)"
      ],
      "metadata": {
        "colab": {
          "base_uri": "https://localhost:8080/"
        },
        "id": "Fxpn5w0i4Wcd",
        "outputId": "54ced5ee-1d67-4281-e4d4-987c4061faf2"
      },
      "execution_count": null,
      "outputs": [
        {
          "output_type": "stream",
          "name": "stdout",
          "text": [
            "tensor([0.7284, 0.7841, 0.6614, 0.8261], device='cuda:0')\n"
          ]
        }
      ]
    },
    {
      "cell_type": "code",
      "execution_count": null,
      "metadata": {
        "colab": {
          "base_uri": "https://localhost:8080/"
        },
        "id": "j7uAwlQTA_K0",
        "outputId": "4263072e-ab47-4caf-e429-777e2349be3d"
      },
      "outputs": [
        {
          "output_type": "stream",
          "name": "stdout",
          "text": [
            "Epoch 0/39\n",
            "----------\n",
            "train Loss: 0.6417 Acc: 0.8483\n",
            "train complete in 2m 21s\n",
            "val Loss: 0.8394 Acc: 0.7870\n",
            "val complete in 0m 19s\n",
            "\n",
            "Epoch 1/39\n",
            "----------\n"
          ]
        }
      ],
      "source": [
        "# Setup the loss fxn\n",
        "criterion = nn.CrossEntropyLoss(weight=class_weights, label_smoothing=0.1)\n",
        "\n",
        "# Train and evaluate\n",
        "model_ft, train_acc_history, val_acc_history, train_loss_history, val_loss_history = train_model(model_ft, dataloaders_dict, criterion, optimizer_ft, scheduler_ft, num_epochs=num_epochs, is_inception=(model_name==\"inception\"))"
      ]
    },
    {
      "cell_type": "markdown",
      "metadata": {
        "id": "cn2TVVVOA_K0"
      },
      "source": [
        "Comparison with Model Trained from Scratch\n",
        "------------------------------------------\n",
        "\n",
        "Just for fun, lets see how the model learns if we do not use transfer\n",
        "learning. The performance of finetuning vs. feature extracting depends\n",
        "largely on the dataset but in general both transfer learning methods\n",
        "produce favorable results in terms of training time and overall accuracy\n",
        "versus a model trained from scratch.\n",
        "\n",
        "\n"
      ]
    },
    {
      "cell_type": "code",
      "source": [
        "#torch.save(model_ft.state_dict(), '/content/resnext50-3.pth')\n",
        "model_scripted = torch.jit.script(model_ft) # Export to TorchScript\n",
        "model_scripted.save('ResNeXt.pth') # Save"
      ],
      "metadata": {
        "id": "tM9qfFBTYgIK"
      },
      "execution_count": null,
      "outputs": []
    },
    {
      "cell_type": "code",
      "execution_count": null,
      "metadata": {
        "id": "gipj-Wc7h9wX"
      },
      "outputs": [],
      "source": [
        "nb_classes = 4\n",
        "labels = ('normal', 'serrated', 'adenocarcinoma', 'adenoma')\n",
        "\n",
        "confusion_matrix = torch.zeros(nb_classes, nb_classes)\n",
        "with torch.no_grad():\n",
        "    for i, (inputs, classes) in enumerate(dataloaders_dict['val']):\n",
        "        inputs = inputs.to(device)\n",
        "        classes = classes.to(device)\n",
        "        outputs = model_ft(inputs)\n",
        "        _, preds = torch.max(outputs, 1)\n",
        "        for t, p in zip(classes.view(-1), preds.view(-1)):\n",
        "                confusion_matrix[t.long(), p.long()] += 1\n",
        "\n",
        "print(confusion_matrix)\n",
        "print(confusion_matrix.diag()/confusion_matrix.sum(1))\n",
        "#wandb.sklearn.plot_confusion_matrix(classes.to(device), model_ft(inputs), labels.to(device))\n"
      ]
    },
    {
      "cell_type": "code",
      "execution_count": null,
      "metadata": {
        "id": "Yp2XXqCtwDzH",
        "colab": {
          "base_uri": "https://localhost:8080/",
          "height": 565
        },
        "outputId": "a8189c47-b01b-4a6c-9c8a-c7731248eb0f"
      },
      "outputs": [
        {
          "output_type": "error",
          "ename": "AttributeError",
          "evalue": "ignored",
          "traceback": [
            "\u001b[0;31m---------------------------------------------------------------------------\u001b[0m",
            "\u001b[0;31mAttributeError\u001b[0m                            Traceback (most recent call last)",
            "\u001b[0;32m<ipython-input-3-4df7b836a9db>\u001b[0m in \u001b[0;36m<module>\u001b[0;34m()\u001b[0m\n\u001b[1;32m     23\u001b[0m     \u001b[0mplt\u001b[0m\u001b[0;34m.\u001b[0m\u001b[0mxlabel\u001b[0m\u001b[0;34m(\u001b[0m\u001b[0mdf_confusion\u001b[0m\u001b[0;34m.\u001b[0m\u001b[0mcolumns\u001b[0m\u001b[0;34m.\u001b[0m\u001b[0mname\u001b[0m\u001b[0;34m)\u001b[0m\u001b[0;34m\u001b[0m\u001b[0;34m\u001b[0m\u001b[0m\n\u001b[1;32m     24\u001b[0m \u001b[0;34m\u001b[0m\u001b[0m\n\u001b[0;32m---> 25\u001b[0;31m \u001b[0mplot_confusion_matrix\u001b[0m\u001b[0;34m(\u001b[0m\u001b[0mconfusion_matrix\u001b[0m\u001b[0;34m)\u001b[0m\u001b[0;34m\u001b[0m\u001b[0;34m\u001b[0m\u001b[0m\n\u001b[0m",
            "\u001b[0;32m<ipython-input-3-4df7b836a9db>\u001b[0m in \u001b[0;36mplot_confusion_matrix\u001b[0;34m(df_confusion, title, cmap)\u001b[0m\n\u001b[1;32m     16\u001b[0m     \u001b[0;31m#plt.title(title)\u001b[0m\u001b[0;34m\u001b[0m\u001b[0;34m\u001b[0m\u001b[0;34m\u001b[0m\u001b[0m\n\u001b[1;32m     17\u001b[0m     \u001b[0mplt\u001b[0m\u001b[0;34m.\u001b[0m\u001b[0mcolorbar\u001b[0m\u001b[0;34m(\u001b[0m\u001b[0;34m)\u001b[0m\u001b[0;34m\u001b[0m\u001b[0;34m\u001b[0m\u001b[0m\n\u001b[0;32m---> 18\u001b[0;31m     \u001b[0mtick_marks\u001b[0m \u001b[0;34m=\u001b[0m \u001b[0mnp\u001b[0m\u001b[0;34m.\u001b[0m\u001b[0marange\u001b[0m\u001b[0;34m(\u001b[0m\u001b[0mlen\u001b[0m\u001b[0;34m(\u001b[0m\u001b[0mdf_confusion\u001b[0m\u001b[0;34m.\u001b[0m\u001b[0mcolumns\u001b[0m\u001b[0;34m)\u001b[0m\u001b[0;34m)\u001b[0m\u001b[0;34m\u001b[0m\u001b[0;34m\u001b[0m\u001b[0m\n\u001b[0m\u001b[1;32m     19\u001b[0m     \u001b[0mplt\u001b[0m\u001b[0;34m.\u001b[0m\u001b[0mxticks\u001b[0m\u001b[0;34m(\u001b[0m\u001b[0mtick_marks\u001b[0m\u001b[0;34m,\u001b[0m \u001b[0mdf_confusion\u001b[0m\u001b[0;34m.\u001b[0m\u001b[0mcolumns\u001b[0m\u001b[0;34m,\u001b[0m \u001b[0mrotation\u001b[0m\u001b[0;34m=\u001b[0m\u001b[0;36m45\u001b[0m\u001b[0;34m)\u001b[0m\u001b[0;34m\u001b[0m\u001b[0;34m\u001b[0m\u001b[0m\n\u001b[1;32m     20\u001b[0m     \u001b[0mplt\u001b[0m\u001b[0;34m.\u001b[0m\u001b[0myticks\u001b[0m\u001b[0;34m(\u001b[0m\u001b[0mtick_marks\u001b[0m\u001b[0;34m,\u001b[0m \u001b[0mdf_confusion\u001b[0m\u001b[0;34m.\u001b[0m\u001b[0mindex\u001b[0m\u001b[0;34m)\u001b[0m\u001b[0;34m\u001b[0m\u001b[0;34m\u001b[0m\u001b[0m\n",
            "\u001b[0;31mAttributeError\u001b[0m: 'numpy.ndarray' object has no attribute 'columns'"
          ]
        },
        {
          "output_type": "display_data",
          "data": {
            "text/plain": [
              "<Figure size 288x288 with 2 Axes>"
            ],
            "image/png": "[encoded data removed]"
          },
          "metadata": {
            "needs_background": "light"
          }
        }
      ],
      "source": [
        "'''confusion_matrix = [[418.,   0.,   2.,   0.],\n",
        "        [ 22., 200.,   5.,  46.],\n",
        "        [  4.,  12., 313.,  23.],\n",
        "        [  5.,  21.,  62., 233.]]\n",
        "'''\n",
        "confusion_matrix = np.array(confusion_matrix)\n",
        "sum = np.sum(confusion_matrix, axis=1)\n",
        "sum_array = np.array([[sum[0], sum[0], sum[0], sum[0] ],\n",
        "                      [sum[1], sum[1], sum[1], sum[1]], \n",
        "                      [sum[2], sum[2], sum[2], sum[2]], \n",
        "                      [sum[3], sum[3], sum[3], sum[3]]])\n",
        "confusion_matrix = np.divide(confusion_matrix, sum_array)\n",
        "confusion_matrix = confusion_matrix * 100\n",
        "def plot_confusion_matrix(df_confusion, title='Confusion matrix', cmap=plt.cm.Purples):\n",
        "    plt.matshow(df_confusion, cmap=cmap) # imshow\n",
        "    #plt.title(title)\n",
        "    plt.colorbar()\n",
        "    tick_marks = np.arange(len(df_confusion.columns))\n",
        "    plt.xticks(tick_marks, df_confusion.columns, rotation=45)\n",
        "    plt.yticks(tick_marks, df_confusion.index)\n",
        "    #plt.tight_layout()\n",
        "    plt.ylabel(df_confusion.index.name)\n",
        "    plt.xlabel(df_confusion.columns.name)\n",
        "\n",
        "plot_confusion_matrix(confusion_matrix)"
      ]
    },
    {
      "cell_type": "markdown",
      "source": [
        ""
      ],
      "metadata": {
        "id": "caUuo-XSY-pE"
      }
    },
    {
      "cell_type": "code",
      "source": [
        "torch.save(model_ft.state_dict(), 'model.pth')\n"
      ],
      "metadata": {
        "id": "qHfYymlTqr2X"
      },
      "execution_count": null,
      "outputs": []
    },
    {
      "cell_type": "markdown",
      "metadata": {
        "id": "CenPgUbdeOx0"
      },
      "source": [
        ""
      ]
    },
    {
      "cell_type": "markdown",
      "metadata": {
        "id": "5jVzuYjb8fw4"
      },
      "source": [
        "# Test\n"
      ]
    },
    {
      "cell_type": "markdown",
      "metadata": {
        "id": "FclAsBWm92VW"
      },
      "source": [
        "Test loader"
      ]
    },
    {
      "cell_type": "code",
      "execution_count": null,
      "metadata": {
        "id": "UIygJflJ91xm"
      },
      "outputs": [],
      "source": [
        "#testset = torchvision.datasets.CIFAR10(root='./data', train=False, download=True, transform=transform)\n",
        "#testloader = torch.utils.data.DataLoader(testset, batch_size=batch_size, shuffle=False, num_workers=2)\n",
        "testloader = dataloaders_dict['test']\n",
        "classes = ('normal', 'serrated', 'adenocarcinoma', 'adenoma')"
      ]
    },
    {
      "cell_type": "markdown",
      "metadata": {
        "id": "W7V8dwk_96FQ"
      },
      "source": [
        "Let’s quickly save our trained model:\n",
        "\n"
      ]
    },
    {
      "cell_type": "code",
      "execution_count": null,
      "metadata": {
        "id": "_bGTDyut9Jjv"
      },
      "outputs": [],
      "source": [
        "PATH = '/content/drive/MyDrive/chaoyang-data/chaoyang.pth'\n",
        "torch.save(model_ft.state_dict(), PATH)"
      ]
    },
    {
      "cell_type": "markdown",
      "metadata": {
        "id": "pka9HjEQ9_2t"
      },
      "source": [
        "We have trained the network for passes over the training dataset. But we need to check if the network has learnt anything at all.\n",
        "\n",
        "We will check this by predicting the class label that the neural network outputs, and checking it against the ground-truth. If the prediction is correct, we add the sample to the list of correct predictions.\n",
        "\n",
        "Okay, first step. Let us display an image from the test set to get familiar."
      ]
    },
    {
      "cell_type": "markdown",
      "metadata": {
        "id": "60ZQL8ztA_K1"
      },
      "source": [
        "Final Thoughts and Where to Go Next\n",
        "-----------------------------------\n",
        "\n",
        "Try running some of the other models and see how good the accuracy gets.\n",
        "Also, notice that feature extracting takes less time because in the\n",
        "backward pass we do not have to calculate most of the gradients. There\n",
        "are many places to go from here. You could:\n",
        "\n",
        "-  Run this code with a harder dataset and see some more benefits of\n",
        "   transfer learning\n",
        "-  Using the methods described here, use transfer learning to update a\n",
        "   different model, perhaps in a new domain (i.e. NLP, audio, etc.)\n",
        "-  Once you are happy with a model, you can export it as an ONNX model,\n",
        "   or trace it using the hybrid frontend for more speed and optimization\n",
        "   opportunities.\n",
        "\n",
        "\n"
      ]
    }
  ],
  "metadata": {
    "colab": {
      "collapsed_sections": [],
      "name": "Copy of finetuning_torchvision_models_tutorial.ipynb",
      "provenance": []
    },
    "kernelspec": {
      "display_name": "Python 3",
      "language": "python",
      "name": "python3"
    },
    "language_info": {
      "codemirror_mode": {
        "name": "ipython",
        "version": 3
      },
      "file_extension": ".py",
      "mimetype": "text/x-python",
      "name": "python",
      "nbconvert_exporter": "python",
      "pygments_lexer": "ipython3",
      "version": "3.6.8"
    }
  },
  "nbformat": 4,
  "nbformat_minor": 0
}